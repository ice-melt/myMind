{
 "cells": [
  {
   "cell_type": "markdown",
   "metadata": {},
   "source": [
    "# 希腊字母"
   ]
  },
  {
   "cell_type": "markdown",
   "metadata": {},
   "source": [
    "## 下面的表格用于查询和对比。\n",
    "\n",
    "|序号 |大写|LaTex代码|小写|LaTex代码|中文名称|\n",
    "|- |-|-|-|-|-|\n",
    "|1|A|A|α|alpha|阿尔法|\n",
    "|2|B|B|β|beta|贝塔|\n",
    "|3|Γ|Γ|γ|gamma|伽马|\n",
    "|4|D|D|δ|delta|德尔塔|\n",
    "|5|E|E|ϵ|epsilon|伊普西隆|\n",
    "|6|Z|Z|ζ|zeta|泽塔|\n",
    "|7|H|H|η|eta|伊塔|\n",
    "|8|Θ|Θ|θ|theta|西塔|\n",
    "|9|I|I|ι|iota|约塔|\n",
    "|10|K|K|κ|kappa|卡帕|\n",
    "|11|Λ|Λ|λ|lambda|兰姆达|\n",
    "|12|M|M|μ|mu|缪|\n",
    "|13|N|N|ν|nu|纽|\n",
    "|14|X|X|ξ|xi|克西|\n",
    "|15|O|O|ο|omicron|欧米克隆|\n",
    "|16|P|P|π|pi|派|\n",
    "|17|R|R|ρ|rho|柔|\n",
    "|18|Σ|Σ|σ|sigma|西格玛|\n",
    "|19|T|T|τ|tau|陶|\n",
    "|20|Υ|Υ|υ|upsilon|宇普西隆|\n",
    "|21|Φ|Φ|ϕ|phi|弗爱|\n",
    "|22|X|X|χ|chi|卡|\n",
    "|23|Ψ|Ψ|ψ|psi|普赛|\n",
    "|24|Ω|Ω|ω|omega|欧米伽|\n",
    "|异体|E|E|ε|varepsilon|\n",
    "|异体|异体|K|K|ϰ|varkappa|\n",
    "|异体|异体|Θ|Θ|ϑ|vartheta|\n",
    "|异体|异体|P|P|ϖ|varpi|\n",
    "|异体|异体|R|R|ϱ|varrho|\n",
    "|异体|异体|Σ|Σ|ς|varsigma|\n",
    "|异体|异体|Φ|Φ|φ|varphi|\n"
   ]
  },
  {
   "cell_type": "markdown",
   "metadata": {},
   "source": [
    "|语法|效果|\n",
    "|:-:|-|\n",
    "| \\Gamma \\Delta  \\Theta|$\\Gamma\\Delta\\Theta$|\n",
    "|\\Lambda  \\Xi  \\Pi|$\\Lambda\\Xi\\Pi$|\n",
    "| \\Sigma \\Upsilon \\Phi \\Psi\\Omega|$\\Sigma\\Upsilon\\Phi\\Psi\\Omega$|\n",
    "|\\alpha \\beta \\gamma \\delta \\epsilon \\zeta \\eta\\theta|$\\alpha \\beta \\gamma \\delta \\epsilon \\zeta \\eta\\theta$|\n",
    "|\\alpha \\beta \\gamma \\delta \\epsilon \\zeta \\eta\\theta|$\\iota \\kappa\\varkappa \\lambda \\mu \\nu \\xi \\omicron\\pi$\n",
    "|\\alpha \\beta \\gamma \\delta \\epsilon \\zeta \\eta\\theta|$\\rho \\sigma \\tau \\upsilon \\phi \\chi \\psi\\omega$\n",
    "|\\epsilon\\varepsilon|$\\epsilon\\varepsilon$|\n",
    "|\\Theta\\theta\\vartheta|$\\Theta\\theta\\vartheta$|\n",
    "|\\kappa\\varkappa|$\\kappa\\varkappa$|\n",
    "|\\Pi\\pi\\varpi|$\\Pi\\pi\\varpi$|\n",
    "|\\rho\\varrho|$\\rho\\varrho$|\n",
    "|\\Sigma\\sigma\\varsigma|$\\Sigma\\sigma\\varsigma$|\n",
    "|\t\\digamma|$\\digamma$|"
   ]
  },
  {
   "cell_type": "markdown",
   "metadata": {},
   "source": [
    "> 注：\n",
    "- \\Alpha \\Beta\\Epsilon \\Zeta\\Eta有道云不支持\n",
    "- \\Iota \\Kappa \\Mu \\Nu\\Omicron有道云不支持\n",
    "- \\Rho\\Tau\\Chi有道云不支持\n",
    "- \\Epsilon有道云不支持\n",
    "- \\Kappa有道云不支持\n",
    "- \\Rho有道云不支持"
   ]
  }
 ],
 "metadata": {
  "kernelspec": {
   "display_name": "Python 3",
   "language": "python",
   "name": "python3"
  },
  "language_info": {
   "codemirror_mode": {
    "name": "ipython",
    "version": 3
   },
   "file_extension": ".py",
   "mimetype": "text/x-python",
   "name": "python",
   "nbconvert_exporter": "python",
   "pygments_lexer": "ipython3",
   "version": "3.6.5"
  }
 },
 "nbformat": 4,
 "nbformat_minor": 2
}
