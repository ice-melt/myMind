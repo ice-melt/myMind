{
 "cells": [
  {
   "cell_type": "markdown",
   "metadata": {},
   "source": [
    "# 连线符号\n",
    "\n",
    "#### \\overline{a+b+c+d}\n",
    "$\\overline{a+b+c+d}$\n",
    "\n",
    "#### \\underline{a+b+c+d}\n",
    "$\\underline{a+b+c+d}$|\n",
    "#### overbrace{a+\\underbrace{b+c}_{1.0}+d}^{2.0}\n",
    "$\\overbrace{a+\\underbrace{b+c}_{1.0}+d}^{2.0}$"
   ]
  }
 ],
 "metadata": {
  "kernelspec": {
   "display_name": "Python 3",
   "language": "python",
   "name": "python3"
  },
  "language_info": {
   "codemirror_mode": {
    "name": "ipython",
    "version": 3
   },
   "file_extension": ".py",
   "mimetype": "text/x-python",
   "name": "python",
   "nbconvert_exporter": "python",
   "pygments_lexer": "ipython3",
   "version": "3.6.5"
  }
 },
 "nbformat": 4,
 "nbformat_minor": 2
}
