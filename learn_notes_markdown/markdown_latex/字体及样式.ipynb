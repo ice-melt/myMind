{
 "cells": [
  {
   "cell_type": "markdown",
   "metadata": {},
   "source": [
    "# 字体及样式"
   ]
  },
  {
   "cell_type": "markdown",
   "metadata": {},
   "source": [
    "|字体标记|字体名词|例子|例子效果|\n",
    "|-|-|-|-|\n",
    "|rm|罗马体|\\rm{012abcABC汉字}|$\\rm{012abcABC汉字}$|\n",
    "|mathrm|罗马体|\\mathrm{012abcABC汉字}|$\\mathrm{012abcABC汉字}$|\n",
    "|bf|黑体|\\bf{012abcABC汉字}|$\\bf{012abcABC汉字}$|\n",
    "|mathbf|正粗体|\\mathbf{012abcABC汉字}|$\\mathbf{012abcABC汉字}$|\n",
    "||粗体|\\boldsymbol{012abcABC汉字}|$\\boldsymbol{012abcABC汉字}$|\n",
    "|Bbb|黑板粗体字|\\Bbb{012abcABC汉字}|$\\Bbb{012abcABC汉字}$|\n",
    "|mathbb|黑板粗体|\\mathbb{012abcABC汉字}|$\\mathbb{012abcABC汉字}$|\n",
    "|sl|倾斜体|\\sl{012abcABC汉字}|$\\sl{012abcABC汉字}$|\n",
    "|mit|数学斜体|\\mit{012abcABC汉字}|$\\mit{012abcABC汉字}$|\n",
    "|scr|小体大写字母|\\scr{012abcABC汉字}|$\\scr{012abcABC汉字}$|\n",
    "|it|意大利体|\\it{012abcABC汉字}|$\\it{012abcABC汉字}$|\n",
    "|mathit|意大利体|\\mathit{012abcABC汉字}|$\\mathit{012abcABC汉字}$|\n",
    "|cal|花体字母(大写)<br>花体字母(小写)<br>花体数字|\\cal{ABCDEFGHIJKLMNOPQRSTUVWXYZ}<br>\\cal{abcdefghijklmnopqrstuvwxyz}<br>\\cal{数字0123456789}|$\\cal{ABCDEFGHIJKLMNOPQRSTUVWXYZ}$<br>$\\cal{abcdefghijklmnopqrstuvwxyz}$<br>$\\cal{数字0123456789}$|\n",
    "|mathcal|花体字母(大写)<br>花体字母(小写)<br>花体数字|\\mathcal{ABCDEFGHIJKLMNOPQRSTUVWXYZ}<br>\\mathcal{abcdefghijklmnopqrstuvwxyz}<br>\\mathcal{数字0123456789}|$\\mathcal{ABCDEFGHIJKLMNOPQRSTUVWXYZ}$<br>$\\mathcal{abcdefghijklmnopqrstuvwxyz}$<br>$\\mathcal{数字0123456789}$|\n",
    "|sf|等线体|\\sf{012abcABC汉字}|$\\sf{012abcABC汉字}$|\n",
    "|tt|打字机字体|\\tt{012abcABC汉字}|$\\tt{012abcABC汉字}$|\n",
    "|frak|Fraktur字母（一种德国字体）|\\frak{012abcABC汉字}|$\\frak{012abcABC汉字}$|\n",
    "|mathfrak|哥特体数字<br>哥特体字母(小写)<br>哥特体字母(大写)|\\mathfrak{0123456789}<br>\\mathfrak{abcdefghijklmnopqrstuvwxyz}<br>\\mathfrak{ABCDEFGHIJKLMNOPQRSTUVWXYZ}|$\\mathfrak{0123456789}$<br>$\\mathfrak{abcdefghijklmnopqrstuvwxyz}$<br>$\\mathfrak{ABCDEFGHIJKLMNOPQRSTUVWXYZ}$|\n",
    "||希伯来字母|\\aleph\\beth\\gimel\\daleth|$\\aleph\\beth\\gimel\\daleth$|"
   ]
  },
  {
   "cell_type": "markdown",
   "metadata": {},
   "source": [
    "## 说明\n",
    "- \\boldsymbol 有道云不支持\n",
    "\n",
    "- 黑板粗体（Blackboardbold）一般用于表示数学和物理学中的向量或集合的符号,{}中只有使用大写拉丁字母才能正常显示，使用小写字母或数字会得到其他符号。\n",
    "\n",
    "- 正粗体花括号{}内只能使用拉丁字母和数字，不能使用希腊字母如\\alpha等\n",
    "\n",
    "- \\mbox{}和\\operatorname{} 有道云不支持\n",
    "\n",
    "- 手写体仅对大写拉丁字母有效"
   ]
  }
 ],
 "metadata": {
  "kernelspec": {
   "display_name": "Python 3",
   "language": "python",
   "name": "python3"
  },
  "language_info": {
   "codemirror_mode": {
    "name": "ipython",
    "version": 3
   },
   "file_extension": ".py",
   "mimetype": "text/x-python",
   "name": "python",
   "nbconvert_exporter": "python",
   "pygments_lexer": "ipython3",
   "version": "3.6.5"
  }
 },
 "nbformat": 4,
 "nbformat_minor": 2
}
