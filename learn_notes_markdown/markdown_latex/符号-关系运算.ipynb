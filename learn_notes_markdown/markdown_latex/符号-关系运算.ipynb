{
 "cells": [
  {
   "cell_type": "markdown",
   "metadata": {},
   "source": [
    "# 关系运算"
   ]
  },
  {
   "cell_type": "markdown",
   "metadata": {},
   "source": [
    "[[同余]](#同余)[[逻辑]](#逻辑)[[集合]](#集合)[[关系符号]](#关系符号)[[微分]](#微分)[[根号]](#根号)"
   ]
  },
  {
   "cell_type": "markdown",
   "metadata": {},
   "source": [
    "## 同余\n",
    "\n",
    "语法|效果|语法|效果\n",
    "-|-|-|-\n",
    "\\pmod{m}|$\\pmod{m}$|a \\bmod b|$a \\bmod b$\n",
    "\n",
    "<div style=\"text-align: right\"> [[Top]](#关系运算) </div>"
   ]
  },
  {
   "cell_type": "markdown",
   "metadata": {},
   "source": [
    "## 逻辑\n",
    "\n",
    "语法|效果|语法|效果|语法|效果|语法|效果\n",
    "-|-|-|-|-|-|-|-\n",
    "p|$p$|\\land|$\\land$|\\wedge|$\\wedge$|\\bigwedge|$\\bigwedge$\n",
    "\\bar{q} \\to p|$\\bar{q} \\to p$|\\lor|$\\lor$|\\vee|$\\vee$|\\bigvee|$\\bigvee$\n",
    "\\lnot|$\\lnot$|\\neg q|$\\neg q$|\\setminus|$\\setminus$|\\smallsetminus|$\\smallsetminus$\n",
    "\\because|$\\because$|\\therefore|$\\therefore$|\\forall|$\\forall$|\\exists|$\\exists$\n",
    "\n",
    "\n",
    "<div style=\"text-align: right\"> [[Top]](#关系运算) </div>"
   ]
  },
  {
   "cell_type": "markdown",
   "metadata": {},
   "source": [
    "## 集合\n",
    "\n",
    "语法|效果|语法|效果|语法|效果|语法|效果|语法|效果\n",
    "-|-|-|-|-|-|-|-|-|-\n",
    "\\forall|$\\forall$|\\exists|$\\exists$|\\emptyset|$\\emptyset$|\\varnothing|$\\varnothing$|\\not\\subset|$\\not\\subset$\n",
    "\\in|$\\in$|\\ni|$\\ni$|\\not\\in|$\\not\\in$|\\notin|$\\notin$|\\subset|$\\subset$\n",
    "\\subseteq|$\\subseteq$|\\supset|$\\supset$|\\supseteq|$\\supseteq$|\\cap|$\\cap$|\\bigcap|$\\bigcap$\n",
    "\\cup|$\\cup$|\\bigcup|$\\bigcup$|\\biguplus|$\\biguplus$|\\sqsubset|$\\sqsubset$|\\sqsubseteq|$\\sqsubseteq$\n",
    "\\sqsupset|$\\sqsupset$|\\sqsupseteq|$\\sqsupseteq$|\\sqcap|$\\sqcap$|\\sqcup|$\\sqcup$|\\bigsqcup|$\\bigsqcup$\n",
    "\n",
    "<div style=\"text-align: right\"> [[Top]](#关系运算) </div>"
   ]
  },
  {
   "cell_type": "markdown",
   "metadata": {},
   "source": [
    "## 关系符号\n",
    "\n",
    "|LaTex代码|效果|LaTex代码|效果|\n",
    "|-|-|-|-|\n",
    "|pm|$\\pm$|mp|$\\mp$|\n",
    "|times|$\\times$|div|$\\div$|\n",
    "|\\lll|$\\lll$|\\ggg|$\\ggg$|\n",
    "|\\ll|$\\ll$|\\gg|$\\gg$|\n",
    "|<|$<$|\\gt|$\\gt$|\n",
    "|\\leq|$\\leq$|\\ge|$\\ge$|\n",
    "|\\leqq|$\\leqq$|\\geqq|$\\geqq$|\n",
    "|=|$=$|neq|$\\neq$|\n",
    "|equiv|$\\equiv$|\\cong|$\\cong$|\n",
    "|\\sim|$\\sim$|\\simeq|$\\simeq$|\n",
    "|approx|$\\approx$|coprod|$\\coprod$|\n",
    "|sum|$\\sum$|prod|$\\prod$|\n",
    "|\\dot=|$\\dot=$|cdot|$\\cdot$|\n",
    "|circ|$\\circ$|ast|$\\ast$|\n",
    "|mid|$\\mid$|nmid|$\\nmid$|\n",
    "|\\propto|$\\propto$|bigodot|$\\bigodot$|\n",
    "|bigoplus|$\\bigoplus$|bigotimes|$\\bigotimes$|\n",
    "|##question##|question|||\n",
    "\n",
    "#### 一些示例\n",
    "- \\Delta ABC\\sim\\Delta XYZ\n",
    "\n",
    "    $\\Delta ABC\\sim\\Delta XYZ$\n",
    "\n",
    "- \\sqrt{3}\\approx1.732050808\\ldots\n",
    "\n",
    "    $\\sqrt{3}\\approx1.732050808\\ldots$\n",
    "\n",
    "- t\\propto v\n",
    "\n",
    "    $t\\propto v$\n",
    "\n",
    "- x\\ne A\n",
    "\n",
    "    $x\\ne A$\n",
    "\n",
    "- x\\neq C\n",
    "\n",
    "    $x\\neq C$\n",
    "\n",
    "- x\\not\\equiv N\n",
    "\n",
    "    $x\\not\\equiv N$\n",
    "\n",
    "- (x-y)^2\\equiv(-x+y)^2\\equiv x^2-2xy+y^2\n",
    "\n",
    "    $(x-y)^2\\equiv(-x+y)^2\\equiv x^2-2xy+y^2$\n",
    "    \n",
    "<div style=\"text-align: right\"> [[Top]](#关系运算) </div>"
   ]
  },
  {
   "cell_type": "markdown",
   "metadata": {},
   "source": [
    "## 微分\n",
    "\n",
    "语法|效果|语法|效果|语法|效果|语法|效果|语法|效果\n",
    "-|-|-|-|-|-|-|-|\n",
    "\\nabla|$\\nabla$|\\partial x|$\\partial x$|\\mathrm{d}x|$\\mathrm{d}x$|\\dot x|$\\dot x$|\\ddot y|$\\ddot y$|\n",
    "\n",
    "<div style=\"text-align: right\"> [[Top]](#关系运算) </div>"
   ]
  },
  {
   "cell_type": "markdown",
   "metadata": {},
   "source": [
    "## 根号\n",
    "\n",
    "语法|效果|语法|效果\n",
    "-|-|-|-\n",
    "\\sqrt{3}|$\\sqrt{3}$|\\sqrt[n]{3}|$\\sqrt[n]{3}$|\n",
    "\n",
    "<div style=\"text-align: right\"> [[Top]](#关系运算) </div>"
   ]
  }
 ],
 "metadata": {
  "kernelspec": {
   "display_name": "Python 3",
   "language": "python",
   "name": "python3"
  },
  "language_info": {
   "codemirror_mode": {
    "name": "ipython",
    "version": 3
   },
   "file_extension": ".py",
   "mimetype": "text/x-python",
   "name": "python",
   "nbconvert_exporter": "python",
   "pygments_lexer": "ipython3",
   "version": "3.6.5"
  }
 },
 "nbformat": 4,
 "nbformat_minor": 2
}
