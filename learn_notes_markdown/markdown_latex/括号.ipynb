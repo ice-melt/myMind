{
 "cells": [
  {
   "cell_type": "markdown",
   "metadata": {},
   "source": [
    "# 括号"
   ]
  },
  {
   "cell_type": "markdown",
   "metadata": {},
   "source": [
    "功能    |   语法    |\t显示\n",
    "        -|      -   |-\n",
    "圆括号，小括号|\\left( \\frac{a}{b} \\right)|$\\left( \\frac{a}{b} \\right)$\n",
    "方括号，中括号|\\left[ \\frac{a}{b} \\right]|$\t\\left[ \\frac{a}{b} \\right]$\n",
    "花括号，大括号|\\left\\{ \\frac{a}{b} \\right\\}|$\\left\\{ \\frac{a}{b} \\right\\}$\n",
    "角括号|\\left \\langle \\frac{a}{b}\\right \\rangle|$\\left\\langle \\frac{a}{b} \\right \\rangle$\n",
    "单竖线，绝对值|\\left&#124; \\frac{a}{b} \\right&#124;|$\\left| \\frac{a}{b} \\right|$\t\n",
    "双竖线，范|\\left \\&#124; \\frac{a}{b} \\right \\&#124;|$\\left \\| \\frac{a}{b} \\right \\|$\n",
    "取整函数（Floor function）|\\left \\lfloor \\frac{a}{b} \\right \\rfloor|$\\left \\lfloor \\frac{a}{b} \\right \\rfloor$\n",
    "取顶函数（Ceiling function)|\\left \\lceil \\frac{c}{d} \\right \\rceil|$\\left \\lceil \\frac{c}{d} \\right \\rceil$\n",
    "斜线与反斜线|\\left / \\frac{a}{b} \\right \\backslash|$\\left / \\frac{a}{b} \\right \\backslash $\n",
    "单左括号|\\left \\{ \\frac{a}{b} \\right .|$\\left \\{ \\frac{a}{b} \\right .$\n",
    "单右括号|\\left . \\frac{a}{b} \\right \\}|$\\left . \\frac{a}{b} \\right \\}$\n",
    "混合括号|\\left [ 0,1 \\right )|$\\left [ 0,1 \\right )$\n",
    "混合括号|\\left \\langle \\psi \\right&#124;|$\\left \\langle \\psi \\right|$"
   ]
  },
  {
   "cell_type": "markdown",
   "metadata": {},
   "source": [
    "##  可以使用 \\big, \\Big, \\bigg, \\Bigg 控制括号的大小，比如代码\n",
    "\n",
    "    \\Bigg ( \\bigg [ \\Big \\{\\big\\langle \\left | \\| \\frac{a}{b} \\| \\right | \\big \\rangle\\Big\\}\\bigg ] \\Bigg )\n",
    "\n",
    "## 显示\n",
    "\n",
    "\n",
    "$\\Bigg ( \\bigg [ \\Big \\{\\big\\langle \\left | \\| \\frac{a}{b} \\| \\right | \\big \\rangle\\Big\\}\\bigg ] \\Bigg )$"
   ]
  }
 ],
 "metadata": {
  "kernelspec": {
   "display_name": "Python 3",
   "language": "python",
   "name": "python3"
  },
  "language_info": {
   "codemirror_mode": {
    "name": "ipython",
    "version": 3
   },
   "file_extension": ".py",
   "mimetype": "text/x-python",
   "name": "python",
   "nbconvert_exporter": "python",
   "pygments_lexer": "ipython3",
   "version": "3.6.5"
  }
 },
 "nbformat": 4,
 "nbformat_minor": 2
}
