{
 "cells": [
  {
   "cell_type": "markdown",
   "metadata": {},
   "source": [
    "## 函数"
   ]
  },
  {
   "cell_type": "markdown",
   "metadata": {},
   "source": [
    "语法|效果|语法|效果|语法|效果\n",
    "-|-|-|-|-|-\n",
    "\\sin\\theta|$\\sin\\theta$|\\cos\\theta|$\\cos\\theta$|\\tan\\theta|$\\tan\\theta$|\n",
    "\\arcsin\\frac{L}{r}|$\\arcsin\\frac{L}{r}$|\\arccos\\frac{T}{r}|$\\arccos\\frac{T}{r}$|\\arctan\\frac{L}{T}|$\\arctan\\frac{L}{T}$|\n",
    "\\sinh g|$\\sinh g$|\\cosh h|$\\cosh h$|\\tanh i|$\\tanh i$|\n",
    "\\operatorname{sh}j|$\\operatorname{sh}j$|\\operatorname{argsh}k|$\\operatorname{argsh}k$|\\operatorname{ch}h|$\\operatorname{ch}h$|\n",
    "\\operatorname{argch}l|$\\operatorname{argch}l$|\\operatorname{th}i|$\\operatorname{th}i$|\\operatorname{argth}m|$\\operatorname{argth}m$|\n",
    "\\max H|$\\max H$|\\min L|$\\min L$|\\inf s|$\\inf s$|\n",
    "\\sup t|$\\sup t$|\\exp\\!t|$\\exp\\!t$|\\ln X|$\\ln X$|\n",
    "\\lg X|$\\lg X$|\\log X|$\\log X$|\\log_\\alpha X|$\\log_\\alpha X$|\n",
    "\\ker x|$\\ker x$|\\deg x|$\\deg x$|\\gcd(T,U,V,W,X)|$\\gcd(T,U,V,W,X)$|\n",
    "\\Pr x|$\\Pr x$|\\det x|$\\det x$|\\hom x|$\\hom x$|\n",
    "\\arg x|$\\arg x$|\\dim x|$\\dim x$|\\lim_{t\\to n}T|$\\lim_{t\\to n}T$|\n",
    "\\limsup S|$\\limsup S$|\\liminf I|$\\liminf I$|\n",
    "\n",
    "\n",
    "k'(x)=\\lim\\_{\\Delta x\\to 0}\\frac{k(x)-k(x-\\Delta x)}{\\Deltax}\n",
    "\n",
    "显示：$k'(x)=\\lim_{\\Delta x\\to 0}\\frac{k(x)-k(x-\\Delta x)}{\\Delta x}$"
   ]
  }
 ],
 "metadata": {
  "kernelspec": {
   "display_name": "Python 3",
   "language": "python",
   "name": "python3"
  },
  "language_info": {
   "codemirror_mode": {
    "name": "ipython",
    "version": 3
   },
   "file_extension": ".py",
   "mimetype": "text/x-python",
   "name": "python",
   "nbconvert_exporter": "python",
   "pygments_lexer": "ipython3",
   "version": "3.6.5"
  }
 },
 "nbformat": 4,
 "nbformat_minor": 2
}
