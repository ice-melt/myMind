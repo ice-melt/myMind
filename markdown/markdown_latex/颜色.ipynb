{
 "cells": [
  {
   "cell_type": "markdown",
   "metadata": {},
   "source": [
    "# 颜色"
   ]
  },
  {
   "cell_type": "markdown",
   "metadata": {},
   "source": [
    "##  语法\n",
    "\n",
    "-   字体颜色︰{\\color{色调}表达式}\n",
    "-   背景颜色︰{\\pagecolor{色调}表达式} \n",
    "\n",
    "> \\pagecolor 有道云不支持\n"
   ]
  },
  {
   "cell_type": "markdown",
   "metadata": {},
   "source": [
    "## 色调表"
   ]
  },
  {
   "cell_type": "markdown",
   "metadata": {},
   "source": [
    "|Colors supported||||\n",
    "|-|-|-|-|\n",
    "|\\color{Red}{Red}|$\\color{Red}{Red}$\t|\\color{Dandelion}{Dandelion}|$\\color{Dandelion}{Dandelion}$\n",
    "|\\color{Tan}{Tan}|$\\color{Tan}{Tan}$\t|\\color{RedViolet}{RedViolet}|$\\color{RedViolet}{RedViolet}$\n",
    "|\\color{Blue}{Blue}|$\\color{Blue}{Blue}$\t|\\color{RubineRed}{RubineRed}|$\\color{RubineRed}{RubineRed}$\n",
    "|\\color{Cyan}{Cyan}|$\\color{Cyan}{Cyan}$\t|\\color{BlueGreen}{BlueGreen}|$\\color{BlueGreen}{BlueGreen}$|\n",
    "|\\color{Gray}{Gray}|$\\color{Gray}{Gray}$\t|\\color{CadetBlue}{CadetBlue}|$\\color{CadetBlue}{CadetBlue}$|\n",
    "|\\color{Plum}{Plum}|$\\color{Plum}{Plum}$\t|\\color{Goldenrod}{Goldenrod}|$\\color{Goldenrod}{Goldenrod}$|\n",
    "|\\color{Black}{Black}|$\\color{Black}{Black}$\t|\\color{LimeGreen}{LimeGreen}|$\\color{LimeGreen}{LimeGreen}$|\n",
    "|\\color{White}{White}|$\\color{White}{White}$\t|\\color{OrangeRed}{OrangeRed}|$\\color{OrangeRed}{OrangeRed}$|\n",
    "|\\color{Brown}{Brown}|$\\color{Brown}{Brown}$\t|\\color{PineGreen}{PineGreen}|$\\color{PineGreen}{PineGreen}$|\n",
    "|\\color{Green}{Green}|$\\color{Green}{Green}$\t|\\color{RawSienna}{RawSienna}|$\\color{RawSienna}{RawSienna}$|\n",
    "|\\color{Melon}{Melon}|$\\color{Melon}{Melon}$\t|\\color{RedOrange}{RedOrange}|$\\color{RedOrange}{RedOrange}$|\n",
    "|\\color{Peach}{Peach}|$\\color{Peach}{Peach}$\t|\\color{Rhodamine}{Rhodamine}|$\\color{Rhodamine}{Rhodamine}$|\n",
    "|\\color{Sepia}{Sepia}|$\\color{Sepia}{Sepia}$\t|\\color{RoyalBlue}{RoyalBlue}|$\\color{RoyalBlue}{RoyalBlue}$|\n",
    "|\\color{Orange}{Orange}|$\\color{Orange}{Orange}$\t|\\color{Turquoise}{Turquoise}|$\\color{Turquoise}{Turquoise}$|\n",
    "|\\color{Purple}{Purple}|$\\color{Purple}{Purple}$\t|\\color{VioletRed}{VioletRed}|$\\color{VioletRed}{VioletRed}$|\n",
    "|\\color{Maroon}{Maroon}|$\\color{Maroon}{Maroon}$\t|\\color{Periwinkle}{Periwinkle}|$\\color{Periwinkle}{Periwinkle}$\n",
    "|\\color{Orchid}{Orchid}|$\\color{Orchid}{Orchid}$\t|\\color{Aquamarine}{Aquamarine}|$\\color{Aquamarine}{Aquamarine}$|\n",
    "|\\color{Salmon}{Salmon}|$\\color{Salmon}{Salmon}$\t|\\color{BlueViolet}{BlueViolet}|$\\color{BlueViolet}{BlueViolet}$|\n",
    "|\\color{Violet}{Violet}|$\\color{Violet}{Violet}$\t|\\color{DarkOrchid}{DarkOrchid}|$\\color{DarkOrchid}{DarkOrchid}$|\n",
    "|\\color{Yellow}{Yellow}|$\\color{Yellow}{Yellow}$\t|\\color{OliveGreen}{OliveGreen}|$\\color{OliveGreen}{OliveGreen}$|\n",
    "|\\color{Fuchsia}{Fuchsia}|$\\color{Fuchsia}{Fuchsia}$\t|\\color{GreenYellow}{GreenYellow}|$\\color{GreenYellow}{GreenYellow}$\n",
    "|\\color{Magenta}{Magenta}|$\\color{Magenta}{Magenta}$\t|\\color{Bittersweet}{Bittersweet}|$\\color{Bittersweet}{Bittersweet}$|\n",
    "|\\color{SkyBlue}{SkyBlue}|$\\color{SkyBlue}{SkyBlue}$\t|\\color{BurntOrange}{BurntOrange}|$\\color{BurntOrange}{BurntOrange}$|\n",
    "|\\color{Thistle}{Thistle}|$\\color{Thistle}{Thistle}$\t|\\color{ForestGreen}{ForestGreen}|$\\color{ForestGreen}{ForestGreen}$|\n",
    "|\\color{Apricot}{Apricot}|$\\color{Apricot}{Apricot}$\t|\\color{JungleGreen}{JungleGreen}|$\\color{JungleGreen}{JungleGreen}$|\n",
    "|\\color{Emerald}{Emerald}|$\\color{Emerald}{Emerald}$\t|\\color{ProcessBlue}{ProcessBlue}|$\\color{ProcessBlue}{ProcessBlue}$|\n",
    "|\\color{BrickRed}{BrickRed}|$\\color{BrickRed}{BrickRed}$\t|\\color{RoyalPurple}{RoyalPurple}|$\\color{RoyalPurple}{RoyalPurple}$|\n",
    "|\\color{Cerulean}{Cerulean}|$\\color{Cerulean}{Cerulean}$\t|\\color{SpringGreen}{SpringGreen}|$\\color{SpringGreen}{SpringGreen}$|\n",
    "|\\color{Lavender}{Lavender}|$\\color{Lavender}{Lavender}$\t|\\color{YellowGreen}{YellowGreen}|$\\color{YellowGreen}{YellowGreen}$|\n",
    "|\\color{Mahogany}{Mahogany}|$\\color{Mahogany}{Mahogany}$\t|\\color{MidnightBlue}{MidnightBlue}|$\\color{MidnightBlue}{MidnightBlue}$\n",
    "|\\color{Mulberry}{Mulberry}|$\\color{Mulberry}{Mulberry}$\t|\\color{YellowOrange}{YellowOrange}|$\\color{YellowOrange}{YellowOrange}$\n",
    "|\\color{NavyBlue}{NavyBlue}|$\\color{NavyBlue}{NavyBlue}$\t|\\color{CarnationPink}{CarnationPink}|$\\color{CarnationPink}{CarnationPink}$\n",
    "|\\color{SeaGreen}{SeaGreen}|$\\color{SeaGreen}{SeaGreen}$\t|\\color{CornflowerBlue}{CornflowerBlue}|$\\color{CornflowerBlue}{CornflowerBlue}$|\n",
    "|\\color{TealBlue}{TealBlue}|$\\color{TealBlue}{TealBlue}$\t|\\color{WildStrawberry}{WildStrawberry}|$\\color{WildStrawberry}{WildStrawberry}$|\n"
   ]
  },
  {
   "cell_type": "markdown",
   "metadata": {},
   "source": [
    "### 注︰输入时颜色第一个字母必需以大写输入\n",
    "-   eg:\n",
    "    -   {\\color{Blue}x^2}+{\\color{Brown}2x} -{\\color{OliveGreen}1}\n",
    "\n",
    "        ${\\color{Blue}x^2}+{\\color{Brown}2x} - {\\color{OliveGreen}1}$\n",
    "\n",
    "    -   x_{\\color{Red}{1,2}}=\\frac{-b\\pm\\sqrt{{\\color{Red}{b^2-4ac}}}}{2a}\n",
    "\n",
    "        $x_{\\color{Red}{1,2}}=\\frac{-b\\pm\\sqrt{{\\color{Red}{b^2-4ac}}}}{2a}$"
   ]
  }
 ],
 "metadata": {
  "kernelspec": {
   "display_name": "Python 3",
   "language": "python",
   "name": "python3"
  },
  "language_info": {
   "codemirror_mode": {
    "name": "ipython",
    "version": 3
   },
   "file_extension": ".py",
   "mimetype": "text/x-python",
   "name": "python",
   "nbconvert_exporter": "python",
   "pygments_lexer": "ipython3",
   "version": "3.6.5"
  }
 },
 "nbformat": 4,
 "nbformat_minor": 2
}
