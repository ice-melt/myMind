{
 "cells": [
  {
   "cell_type": "markdown",
   "metadata": {},
   "source": [
    "# 几何符号"
   ]
  },
  {
   "cell_type": "markdown",
   "metadata": {},
   "source": [
    "-|语法|效果\n",
    "-|-|-\n",
    "菱形|\\Diamond|$\\Diamond$\n",
    "正方形|\\Box|$\\Box$\n",
    "三角形Delta|\\Delta|$\\Delta$\n",
    "三角形图型|\\triangle|$\\triangle$\n",
    "角名|\\angle\\Alpha\\Beta\\Gamma|$\\angle\\Gamma\\beta\\alpha$\n",
    "垂直|\\perp|$\\perp$\n",
    "垂直|\\bot|$\\bot$"
   ]
  },
  {
   "cell_type": "markdown",
   "metadata": {},
   "source": [
    "### 角度\n",
    "\n",
    "\\sin\\!\\frac{\\pi}{3}=\\sin60^\\operatorname{\\omicron}=\\frac{\\sqrt{3}}{2}\n",
    "\n",
    "$\\sin\\!\\frac{\\pi}{3}=\\sin60^{\\omicron}=\\frac{\\sqrt{3}}{2}$"
   ]
  }
 ],
 "metadata": {
  "kernelspec": {
   "display_name": "Python 3",
   "language": "python",
   "name": "python3"
  },
  "language_info": {
   "codemirror_mode": {
    "name": "ipython",
    "version": 3
   },
   "file_extension": ".py",
   "mimetype": "text/x-python",
   "name": "python",
   "nbconvert_exporter": "python",
   "pygments_lexer": "ipython3",
   "version": "3.6.5"
  }
 },
 "nbformat": 4,
 "nbformat_minor": 2
}
