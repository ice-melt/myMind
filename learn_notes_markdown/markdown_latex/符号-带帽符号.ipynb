{
 "cells": [
  {
   "cell_type": "markdown",
   "metadata": {},
   "source": [
    "## 声调"
   ]
  },
  {
   "cell_type": "markdown",
   "metadata": {},
   "source": [
    "|语法|效果|\n",
    "|-|-|\n",
    "|\\bar{x}|$\\bar{x}$|\n",
    "|\\grave{\\eta}|$\\grave{\\eta}$|\n",
    "|\\dot{x}|$\\dot{x}$|\n",
    "|\\acute{\\eta}|$\\acute{\\eta}$|\n",
    "|\\breve{a}|$\\breve{a}$|\n",
    "|\\hat{\\alpha}|$\\hat{\\alpha}$|\n",
    "|\\check{\\alpha}|$\\check{\\alpha}$|\n",
    "|\\ddot{y}|$\\ddot{y}$|\n",
    "|\\tilde{\\iota}|$\\tilde{\\iota}$|\n"
   ]
  }
 ],
 "metadata": {
  "kernelspec": {
   "display_name": "Python 3",
   "language": "python",
   "name": "python3"
  },
  "language_info": {
   "codemirror_mode": {
    "name": "ipython",
    "version": 3
   },
   "file_extension": ".py",
   "mimetype": "text/x-python",
   "name": "python",
   "nbconvert_exporter": "python",
   "pygments_lexer": "ipython3",
   "version": "3.6.5"
  }
 },
 "nbformat": 4,
 "nbformat_minor": 2
}
