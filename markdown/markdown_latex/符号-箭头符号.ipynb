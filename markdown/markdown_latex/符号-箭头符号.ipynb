{
 "cells": [
  {
   "cell_type": "markdown",
   "metadata": {},
   "source": [
    "# 箭头"
   ]
  },
  {
   "cell_type": "markdown",
   "metadata": {},
   "source": [
    "语法|效果|语法|效果|\n",
    "-|-|-|-|\n",
    "\\leftarrow|$\\leftarrow$|\\rightarrow|$\\rightarrow$|\n",
    "\\gets|$\\gets$|\\to|$\\to$|\n",
    "\\hookleftarrow|$\\hookleftarrow$|\\hookrightarrow|$\\hookrightarrow$|\n",
    "\\longleftarrow|$\\longleftarrow$|\\longrightarrow|$\\longrightarrow$|\n",
    "\\leftharpoonup|$\\leftharpoonup$|\\rightharpoonup|$\\rightharpoonup$|\n",
    "\\leftharpoondown|$\\leftharpoondown$|\\rightharpoondown|$\\rightharpoondown$|\n",
    "\\upharpoonright|$\\upharpoonright$|\\upharpoonleft|$\\upharpoonleft$|\n",
    "\\downharpoonright|$\\downharpoonright$|\\downharpoonleft|$\\downharpoonleft$|\n",
    "\\searrow|$\\searrow$|\\swarrow|$\\swarrow$|\n",
    "\\nearrow|$\\nearrow$|\\nwarrow|$\\nwarrow$|\n",
    "\\uparrow|$\\uparrow$|\\downarrow|$\\downarrow$|\n",
    "\\leftrightarrow|$\\leftrightarrow$|\\updownarrow|$\\updownarrow$|\n",
    "\\mapsto|$\\mapsto$|\\longmapsto|$\\longmapsto$|\n",
    "\\Leftarrow|$\\Leftarrow$|\\Rightarrow|$\\Rightarrow$|\n",
    "\\Longleftarrow|$\\Longleftarrow$|\\Longrightarrow|$\\Longrightarrow$|\n",
    "\\Uparrow|$\\Uparrow$|\\Downarrow|$\\Downarrow$|\n",
    "\\Leftrightarrow|$\\Leftrightarrow$|\\Updownarrow|$\\Updownarrow$|\n",
    "\\Longleftrightarrow (or \\iff)|$\\Longleftrightarrow$|||\n"
   ]
  }
 ],
 "metadata": {
  "kernelspec": {
   "display_name": "Python 3",
   "language": "python",
   "name": "python3"
  },
  "language_info": {
   "codemirror_mode": {
    "name": "ipython",
    "version": 3
   },
   "file_extension": ".py",
   "mimetype": "text/x-python",
   "name": "python",
   "nbconvert_exporter": "python",
   "pygments_lexer": "ipython3",
   "version": "3.6.5"
  }
 },
 "nbformat": 4,
 "nbformat_minor": 2
}
