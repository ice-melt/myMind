{
 "cells": [
  {
   "cell_type": "markdown",
   "metadata": {},
   "source": [
    "## 空格"
   ]
  },
  {
   "cell_type": "markdown",
   "metadata": {},
   "source": [
    "|$\\quad$功能$\\quad$|$\\quad$语法$\\quad$|$\\quad$显$\\qquad$示$\\quad$|$\\quad$备注$\\quad$|\n",
    "|-|-|:-:|-|\n",
    "|2个quad空格|\\alpha\\qquad\\beta|$\\alpha \\qquad \\beta$|2m|\n",
    "|quad空格|\\alpha\\quad\\beta|$\\alpha\\quad\\beta$|m|\n",
    "|大空格|\\alpha\\ \\beta|$\\alpha\\ \\beta$|$\\frac{m}{3}$|\n",
    "|中等空格|\\alpha\\;\\beta|$\\alpha\\;\\beta$|$\\frac{2m}{7}$|\n",
    "|小空格|\\alpha\\,\\beta|$\\alpha\\,\\beta$|$\\frac{m}{6}$|\n",
    "|没有空格|\\alpha\\beta|$\\alpha\\beta$|0|\n",
    "|紧贴|\\alpha\\\\!\\beta|$\\alpha\\!\\beta$|$-\\frac{m}{6}$|"
   ]
  },
  {
   "cell_type": "markdown",
   "metadata": {},
   "source": []
  }
 ],
 "metadata": {
  "kernelspec": {
   "display_name": "Python 3",
   "language": "python",
   "name": "python3"
  },
  "language_info": {
   "codemirror_mode": {
    "name": "ipython",
    "version": 3
   },
   "file_extension": ".py",
   "mimetype": "text/x-python",
   "name": "python",
   "nbconvert_exporter": "python",
   "pygments_lexer": "ipython3",
   "version": "3.6.5"
  }
 },
 "nbformat": 4,
 "nbformat_minor": 2
}
