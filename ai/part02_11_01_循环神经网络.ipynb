{
 "cells": [
  {
   "cell_type": "markdown",
   "metadata": {},
   "source": [
    "# 循环神经网络 Recurrent Neural Network\n",
    "![csdn_ai7_1101_001][csdn_ai7_1101_001]\n",
    "\n",
    "\n",
    "\n",
    "\n",
    "\n",
    "\\begin{equation}\n",
    "\\begin{split}\n",
    "\\delta_{(T)}^{(L)}&=\\nabla_y Cost \\bigodot \\sigma^\\prime (logit_{(T)}^{(L)})\\qquad&(BP1)\\\\\n",
    "\\delta_{(T)}^{(l)}&=[(V^{(l+1)})^T \\delta_{(T)}^{(l+1)}] \\bigodot \\sigma^\\prime (logit_{(T)}^{(l)}）\\qquad&(BP2)\\\\\n",
    "\\delta_{(t)}^{(l)}&=[(W^{(l)})^T \\delta_{(t+1)}^{(l)}+(V^{(l+1)})^T \\delta_{(t)}^{(l+1)}] \\bigodot \\sigma^\\prime (S_{(t)}^{(l)}）\\qquad&(BP2T)\\\\\n",
    "\\frac{\\partial Cost}{\\partial bias^{(l)}}&=\\sum_{t=0}^{T} \\delta_{(t)}^{(l)} \\qquad&(BP3)\\\\\n",
    "\\frac{\\partial Cost}{\\partial V^{(l)}}&=\\sum_{t=0}^{T} \\delta_{(t)}^{(l)}\\cdot [S_{(t)}^{(l-1)}]^T \\qquad&(BP4V)\\\\\n",
    "\\frac{\\partial Cost}{\\partial W^{(l)}}&=\\sum_{t=1}^{T} \\delta_{(t)}^{(l)}\\cdot [S_{(t-1)}^{(l)}]^T \\qquad&(BP4W)\\\\\n",
    "\\frac{\\partial Cost}{\\partial U^{(l)}}&=\\sum_{t=0}^{T} \\delta_{(t)}^{(l)}\\cdot [X_{(t)}]^T \\qquad&(BP4U)\\\\\n",
    "\\end{split}\n",
    "\\end{equation}\n",
    "\n",
    "[csdn_ai7_1101_001]: https://raw.github.com/ice-melt/picture-set/master/csdn_ai7/csdn_ai7_1101_001.png"
   ]
  },
  {
   "cell_type": "code",
   "execution_count": null,
   "metadata": {},
   "outputs": [],
   "source": []
  },
  {
   "cell_type": "code",
   "execution_count": null,
   "metadata": {},
   "outputs": [],
   "source": []
  },
  {
   "cell_type": "code",
   "execution_count": null,
   "metadata": {},
   "outputs": [],
   "source": []
  }
 ],
 "metadata": {
  "kernelspec": {
   "display_name": "Python 3",
   "language": "python",
   "name": "python3"
  },
  "language_info": {
   "codemirror_mode": {
    "name": "ipython",
    "version": 3
   },
   "file_extension": ".py",
   "mimetype": "text/x-python",
   "name": "python",
   "nbconvert_exporter": "python",
   "pygments_lexer": "ipython3",
   "version": "3.6.5"
  }
 },
 "nbformat": 4,
 "nbformat_minor": 2
}
